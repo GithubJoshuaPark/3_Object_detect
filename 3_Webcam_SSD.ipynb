{
 "cells": [
  {
   "cell_type": "code",
   "execution_count": 2,
   "id": "621a03f5",
   "metadata": {},
   "outputs": [],
   "source": [
    "import cv2\n",
    "import matplotlib.pyplot as plt\n",
    "import numpy as np\n",
    "import sys\n",
    "\n",
    "import torch\n",
    "from torchvision.io import read_image\n",
    "from torchvision import models, transforms, datasets\n",
    "\n",
    "def close_window():\n",
    "    cv2.destroyAllWindows()  # Close the window\n",
    "    cv2.waitKey(1)\n",
    "    cv2.waitKey(1)\n",
    "    \n",
    "def ifNotExistExit(filename):\n",
    "    if not filename:\n",
    "        print('filename is None')\n",
    "        sys.exit()"
   ]
  },
  {
   "cell_type": "markdown",
   "id": "d36d807f",
   "metadata": {},
   "source": [
    "## Webcam 동영상 열기"
   ]
  },
  {
   "cell_type": "code",
   "execution_count": 3,
   "id": "871ae51a",
   "metadata": {},
   "outputs": [
    {
     "name": "stdout",
     "output_type": "stream",
     "text": [
      "Frame width: 1280.0\n",
      "Frame height: 720.0\n",
      "Frame width: 640\n",
      "Frame height: 480\n"
     ]
    },
    {
     "name": "stderr",
     "output_type": "stream",
     "text": [
      "2025-04-07 20:02:02.426 python[88489:2402866] +[IMKClient subclass]: chose IMKClient_Modern\n",
      "2025-04-07 20:02:02.426 python[88489:2402866] +[IMKInputSession subclass]: chose IMKInputSession_Modern\n"
     ]
    }
   ],
   "source": [
    "cap = cv2.VideoCapture(0)\n",
    "if not cap.isOpened():\n",
    "    print('Camera open failed!')\n",
    "    sys.exit()\n",
    "\n",
    "# Print current camera properties\n",
    "print(f\"Frame width: {cap.get(cv2.CAP_PROP_FRAME_WIDTH)}\")\n",
    "print(f\"Frame height: {cap.get(cv2.CAP_PROP_FRAME_HEIGHT)}\")\n",
    "\n",
    "# Update camera properties\n",
    "cap.set(cv2.CAP_PROP_FRAME_WIDTH, 1920 // 3)\n",
    "cap.set(cv2.CAP_PROP_FRAME_HEIGHT, 1080 // 2.25)\n",
    "\n",
    "# Print updated camera properties\n",
    "print('Frame width:', int(cap.get(cv2.CAP_PROP_FRAME_WIDTH)))\n",
    "print('Frame height:', int(cap.get(cv2.CAP_PROP_FRAME_HEIGHT)))\n",
    "\n",
    "# Process camera frames\n",
    "while True:\n",
    "    ret, frame = cap.read()\n",
    "\n",
    "    if not ret:\n",
    "        break\n",
    "\n",
    "    edge = cv2.Canny(frame, 50, 150)\n",
    "    \n",
    "    cv2.imshow('frame', frame)\n",
    "    cv2.imshow('frame1', edge)\n",
    "\n",
    "    if cv2.waitKey(10) == 27: # ESC key to exit\n",
    "        break\n",
    "\n",
    "# cap.release()\n",
    "# cv2.destroyAllWindows()\n",
    "\n",
    "cap.release()\n",
    "cv2.waitKey() # wait until any key,'q' is pressed\n",
    "close_window()\n"
   ]
  },
  {
   "cell_type": "markdown",
   "id": "0f94d2e4",
   "metadata": {},
   "source": [
    "## OpenCV DNN webcam 얼굴검출\n",
    "- https://github.com/spmallick/learnopencv/tree/master/AgeGender"
   ]
  },
  {
   "cell_type": "code",
   "execution_count": 4,
   "id": "76ef7dc9",
   "metadata": {},
   "outputs": [
    {
     "name": "stderr",
     "output_type": "stream",
     "text": [
      "2025-04-07 21:06:54.347 python[88489:2402866] TSM AdjustCapsLockLEDForKeyTransitionHandling - _ISSetPhysicalKeyboardCapsLockLED Inhibit\n",
      "2025-04-07 21:06:54.347 python[88489:2402866] TSM AdjustCapsLockLEDForKeyTransitionHandling - _ISSetPhysicalKeyboardCapsLockLED Inhibit\n"
     ]
    }
   ],
   "source": [
    "import sys\n",
    "import numpy as np\n",
    "import cv2\n",
    "\n",
    "## Tensorflow 학습모델\n",
    "model = './opencv_face_detector_uint8.pb'\n",
    "config = './opencv_face_detector.pbtxt'\n",
    "cap = cv2.VideoCapture(0)\n",
    "\n",
    "if not cap.isOpened():\n",
    "    print('Camera open failed!')\n",
    "    sys.exit()\n",
    "\n",
    "net = cv2.dnn.readNet(model, config)\n",
    "if net.empty():\n",
    "    print('Net open failed!')\n",
    "    sys.exit()\n",
    "\n",
    "while True:\n",
    "    ret, frame = cap.read()\n",
    "    if not ret:\n",
    "        break\n",
    "\n",
    "    blob = cv2.dnn.blobFromImage(frame, 1, (300, 300), (104, 177, 123))\n",
    "    net.setInput(blob)\n",
    "    out = net.forward()# out.shape=(1,1, 200, 7)\n",
    "    detect = out[0, 0, :, :] ##0, 0, 사용안함\n",
    "    (h, w) = frame.shape[:2]\n",
    "\n",
    "    for i in range(detect.shape[0]):\n",
    "        confidence = detect[i, 2]\n",
    "        if confidence > 0.5:\n",
    "            # out matrix에서 x1, y1, x2, y2 값이 0 ~1로 normalize 되어 있음\n",
    "            x1 = int(detect[i, 3] * w)\n",
    "            y1 = int(detect[i, 4] * h)\n",
    "            x2 = int(detect[i, 5] * w)\n",
    "            y2 = int(detect[i, 6] * h)\n",
    "\n",
    "            cv2.rectangle(frame, (x1, y1), (x2, y2), (0, 255, 0))\n",
    "            label = f'Face: {confidence:4.2f}'\n",
    "            cv2.putText(frame, label, (x1, y1 - 1), cv2.FONT_HERSHEY_SIMPLEX, \n",
    "                        0.8, (0, 255, 0), 1, cv2.LINE_AA)\n",
    "\n",
    "    cv2.imshow('frame', frame)\n",
    "    if cv2.waitKey(1) == 27:\n",
    "        break\n",
    "\n",
    "# cap.release()\n",
    "# cv2.destroyAllWindows()\n",
    "cv2.waitKey() # wait until any key,'q' is pressed\n",
    "close_window()"
   ]
  }
 ],
 "metadata": {
  "kernelspec": {
   "display_name": "base",
   "language": "python",
   "name": "python3"
  },
  "language_info": {
   "codemirror_mode": {
    "name": "ipython",
    "version": 3
   },
   "file_extension": ".py",
   "mimetype": "text/x-python",
   "name": "python",
   "nbconvert_exporter": "python",
   "pygments_lexer": "ipython3",
   "version": "3.12.2"
  }
 },
 "nbformat": 4,
 "nbformat_minor": 5
}
